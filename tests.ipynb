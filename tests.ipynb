{
 "cells": [
  {
   "cell_type": "code",
   "execution_count": null,
   "id": "68fa69a0-bdb9-4f30-8f35-507b013be5b6",
   "metadata": {},
   "outputs": [],
   "source": [
    "graphics_toolkit(\"notebook\")"
   ]
  },
  {
   "cell_type": "code",
   "execution_count": null,
   "id": "50a22e7b-ee28-493e-9659-6101333cb239",
   "metadata": {},
   "outputs": [],
   "source": [
    "cd examples"
   ]
  },
  {
   "cell_type": "code",
   "execution_count": null,
   "id": "c3e4409d-eeda-4bab-9d93-427b13cfcf36",
   "metadata": {},
   "outputs": [],
   "source": [
    "dynare Occbin_example nowarn nolog nointeractive nopreprocessoroutput fast"
   ]
  },
  {
   "cell_type": "code",
   "execution_count": null,
   "id": "eb5c4deb-4e8b-40c8-a5e7-0b9091d4a6ea",
   "metadata": {},
   "outputs": [],
   "source": [
    "dynare ramst nowarn nolog nointeractive nopreprocessoroutput fast"
   ]
  },
  {
   "cell_type": "code",
   "execution_count": null,
   "id": "0306ff2f-80a7-406f-aaf1-472725da998d",
   "metadata": {},
   "outputs": [],
   "source": [
    "dynare agtrend nowarn nolog nointeractive nopreprocessoroutput fast"
   ]
  },
  {
   "cell_type": "code",
   "execution_count": null,
   "id": "f98cf9ba-17aa-4fa5-8ad7-a589f3bbe614",
   "metadata": {},
   "outputs": [],
   "source": [
    "dynare bkk nowarn nolog nointeractive nopreprocessoroutput fast"
   ]
  },
  {
   "cell_type": "code",
   "execution_count": null,
   "id": "73a8d50d-3881-49ee-a803-cf34b9413506",
   "metadata": {},
   "outputs": [],
   "source": [
    "dynare example2 nowarn nolog nointeractive nopreprocessoroutput fast"
   ]
  },
  {
   "cell_type": "code",
   "execution_count": null,
   "id": "4ba51164-4a0b-4f6c-83b0-e36bba4da122",
   "metadata": {},
   "outputs": [],
   "source": [
    "dynare NK_baseline nowarn nolog nointeractive nopreprocessoroutput fast"
   ]
  },
  {
   "cell_type": "code",
   "execution_count": null,
   "id": "da0dc6c1-8ddd-4261-8737-0a9a7327343e",
   "metadata": {},
   "outputs": [],
   "source": []
  },
  {
   "cell_type": "code",
   "execution_count": null,
   "id": "94ff1e2c-abbc-4947-9cb5-430129cf6116",
   "metadata": {},
   "outputs": [],
   "source": []
  }
 ],
 "metadata": {
  "kernelspec": {
   "display_name": "Octave (xoctave)",
   "language": "Octave",
   "name": "xoctave"
  },
  "language_info": {
   "codemirror_mode": "octave",
   "file_extension": ".m",
   "mimetype": "text/x-octave",
   "name": "Octave",
   "nbconvert_exporter": "",
   "pygments_lexer": "octave",
   "version": "10.2.0"
  }
 },
 "nbformat": 4,
 "nbformat_minor": 5
}
